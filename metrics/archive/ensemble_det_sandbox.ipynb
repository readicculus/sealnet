{
 "cells": [
  {
   "cell_type": "code",
   "execution_count": 46,
   "metadata": {
    "scrolled": true
   },
   "outputs": [
    {
     "name": "stdout",
     "output_type": "stream",
     "text": [
      "The autoreload extension is already loaded. To reload it, use:\n",
      "  %reload_ext autoreload\n"
     ]
    }
   ],
   "source": [
    "import cv2\n",
    "import os\n",
    "import numpy as np\n",
    "import pandas as pd\n",
    "import pickle\n",
    "from matplotlib import pyplot as plt\n",
    "import matplotlib\n",
    "from BoundingBoxes import BoundingBoxes\n",
    "from BoundingBox import BoundingBox\n",
    "from utils import *\n",
    "%matplotlib inline\n",
    "%load_ext autoreload\n",
    "%autoreload 2\n",
    "\n",
    "pkl_file = \"/home/yuval/Documents/XNOR/sealnet/metrics/results.pkl\"\n"
   ]
  },
  {
   "cell_type": "code",
   "execution_count": 31,
   "metadata": {},
   "outputs": [],
   "source": [
    "def print_bbs(bbs):\n",
    "    ct = len(bbs._boundingBoxes)\n",
    "    class_ct = {}\n",
    "    for bb in bbs._boundingBoxes:\n",
    "        if bb.getClassId() not in class_ct:\n",
    "            class_ct[bb.getClassId()] = 0\n",
    "\n",
    "        class_ct[bb.getClassId()] += 1\n",
    "    for c in class_ct:\n",
    "        print(\"%s %d\" % (c, class_ct[c]))\n",
    "    print(\"%d total\" % ct)\n",
    "    print(\"\")\n",
    "\n",
    "def print_models(models):\n",
    "    print(\"Total detections:\")\n",
    "    for model in models:\n",
    "        print(model)\n",
    "        bbs = models[model]\n",
    "        print_bbs(bbs)"
   ]
  },
  {
   "cell_type": "code",
   "execution_count": 32,
   "metadata": {},
   "outputs": [],
   "source": [
    "df = pd.read_csv(\"/home/yuval/Documents/XNOR/sealnet/models/darknet/full_detections.csv\", delimiter='\\t')\n",
    "unique_ims = set(df[\"file\"].values[0:])\n",
    "models = {}\n",
    "if os.path.exists(pkl_file):\n",
    "    models = pickle.load(open(pkl_file, \"rb\"))\n",
    "else:\n",
    "    for i, det in df.iloc[1:].iterrows():\n",
    "        imageName=det[\"file\"]\n",
    "        model=det[\"weights\"]\n",
    "        label=det[\"label\"]\n",
    "        confidence=det[\"confidence\"]\n",
    "        x=det[\"x\"]\n",
    "        y=det[\"y\"]\n",
    "        w=det[\"w\"]\n",
    "        h=det[\"h\"]\n",
    "        if not model in models:\n",
    "            models[model] = BoundingBoxes()\n",
    "\n",
    "        box = BoundingBox(imageName, label,x,y,w,h,\n",
    "                          classConfidence=confidence, bbType=BBType.Detected, model=model)\n",
    "        models[model].addBoundingBox(box)\n",
    "    pickle.dump( models, open( pkl_file, \"wb\" ) )\n",
    "all_together =BoundingBoxes()\n",
    "for model in models:\n",
    "    for box in models[model]._boundingBoxes:\n",
    "        all_together.addBoundingBox(box)    "
   ]
  },
  {
   "cell_type": "code",
   "execution_count": null,
   "metadata": {},
   "outputs": [],
   "source": [
    "from Evaluator import Evaluator\n",
    "bbs_conf = None\n",
    "evaluator = Evaluator()\n",
    "for i, im_name in enumerate(unique_ims):\n",
    "    if i !=2:\n",
    "        continue\n",
    "    bblist = all_together.getBoundingBoxesByImageName(im_name)\n",
    "    \n",
    "    for i in range(len(bblist)):\n",
    "        ious = evaluator._getAllIOUs(bblist[i], bblist[:i] + bblist[i+1:])\n",
    "        for iou in ious:\n",
    "            print(iou)\n",
    "            \n",
    "    bbs = BoundingBoxes()\n",
    "    bbs.addBoundingBoxes(bblist)\n",
    "    bbs_conf = bbs.filter_confidence(.1)\n",
    "bbs_conf._boundingBoxes"
   ]
  },
  {
   "cell_type": "code",
   "execution_count": 41,
   "metadata": {},
   "outputs": [
    {
     "data": {
      "text/plain": [
       "[1, 2, 4]"
      ]
     },
     "execution_count": 41,
     "metadata": {},
     "output_type": "execute_result"
    }
   ],
   "source": [
    "models = {}\n",
    "for bb in bblist\n",
    "    if not bb_model in models:\n",
    "        models[bb_model = ]"
   ]
  },
  {
   "cell_type": "code",
   "execution_count": 83,
   "metadata": {},
   "outputs": [
    {
     "name": "stdout",
     "output_type": "stream",
     "text": [
      "[[5687.  215. 5750.  313.]\n",
      " [5692.  215. 5749.  309.]\n",
      " [5678. 2385. 5735. 2418.]\n",
      " [4843. 3959. 4895. 4005.]\n",
      " [5685.  215. 5750.  300.]]\n"
     ]
    }
   ],
   "source": [
    "def iou(box, clusters):\n",
    "    x = np.minimum(clusters[:, 0], box[0])\n",
    "    y = np.minimum(clusters[:, 1], box[1])\n",
    "\n",
    "    intersection = x * y\n",
    "    box_area = box[0] * box[1]\n",
    "    cluster_area = clusters[:, 0] * clusters[:, 1]\n",
    "\n",
    "    iou_ = intersection / (box_area + cluster_area - intersection)\n",
    "    \n",
    "    return iou_\n",
    "\n",
    "def kmeans(boxes, k, dist=np.median):\n",
    "    boxes2= np.array(boxes)\n",
    "    boxes = np.zeros((len(boxes2), 4))\n",
    "    for i, b in enumerate(boxes2):\n",
    "        bb=np.array(b.getAbsoluteBoundingBox(format=BBFormat.XYX2Y2), dtype=np.int)\n",
    "        boxes[i] = bb\n",
    "\n",
    "    rows = len(boxes)\n",
    "\n",
    "    distances = np.empty((rows, k))\n",
    "    last_clusters = np.zeros((rows,))\n",
    "\n",
    "    np.random.seed()\n",
    "\n",
    "    clusters = boxes[np.random.choice(rows, k, replace=False)]\n",
    "\n",
    "    while True:\n",
    "        for row in range(rows):\n",
    "            distances[row] = 1 - iou(boxes[row], clusters)\n",
    "\n",
    "        nearest_clusters = np.argmin(distances, axis=1)\n",
    "\n",
    "        if (last_clusters == nearest_clusters).all():\n",
    "            break\n",
    "\n",
    "        for cluster in range(k):\n",
    "            clusters[cluster] = dist(boxes[nearest_clusters == cluster], axis=0)\n",
    "\n",
    "        last_clusters = nearest_clusters\n",
    "\n",
    "    return clusters\n",
    "x=kmeans(bblist, 4)\n",
    "print(x)"
   ]
  },
  {
   "cell_type": "code",
   "execution_count": 34,
   "metadata": {},
   "outputs": [
    {
     "ename": "NameError",
     "evalue": "name 'Nones' is not defined",
     "traceback": [
      "\u001b[0;31m---------------------------------------------------------------------------\u001b[0m",
      "\u001b[0;31mNameError\u001b[0m                                 Traceback (most recent call last)",
      "\u001b[0;32m<ipython-input-34-f6649e38c8e9>\u001b[0m in \u001b[0;36m<module>\u001b[0;34m\u001b[0m\n\u001b[1;32m      1\u001b[0m \u001b[0mim\u001b[0m \u001b[0;34m=\u001b[0m \u001b[0;32mNone\u001b[0m\u001b[0;34m\u001b[0m\u001b[0;34m\u001b[0m\u001b[0m\n\u001b[0;32m----> 2\u001b[0;31m \u001b[0mbbs\u001b[0m \u001b[0;34m=\u001b[0m \u001b[0mNones\u001b[0m\u001b[0;34m\u001b[0m\u001b[0;34m\u001b[0m\u001b[0m\n\u001b[0m\u001b[1;32m      3\u001b[0m \u001b[0;32mfor\u001b[0m \u001b[0mim_name\u001b[0m \u001b[0;32min\u001b[0m \u001b[0munique_ims\u001b[0m\u001b[0;34m:\u001b[0m\u001b[0;34m\u001b[0m\u001b[0;34m\u001b[0m\u001b[0m\n\u001b[1;32m      4\u001b[0m     \u001b[0mimbbs\u001b[0m \u001b[0;34m=\u001b[0m \u001b[0mall_together\u001b[0m\u001b[0;34m.\u001b[0m\u001b[0mgetBoundingBoxesByImageName\u001b[0m\u001b[0;34m(\u001b[0m\u001b[0mim_name\u001b[0m\u001b[0;34m)\u001b[0m\u001b[0;34m\u001b[0m\u001b[0;34m\u001b[0m\u001b[0m\n\u001b[1;32m      5\u001b[0m     \u001b[0mim\u001b[0m \u001b[0;34m=\u001b[0m \u001b[0mcv2\u001b[0m\u001b[0;34m.\u001b[0m\u001b[0mimread\u001b[0m\u001b[0;34m(\u001b[0m\u001b[0mos\u001b[0m\u001b[0;34m.\u001b[0m\u001b[0mpath\u001b[0m\u001b[0;34m.\u001b[0m\u001b[0mjoin\u001b[0m\u001b[0;34m(\u001b[0m\u001b[0;34m\"/data/raw_data/TrainingAnimals_ColorImages/\"\u001b[0m\u001b[0;34m,\u001b[0m \u001b[0mim_name\u001b[0m\u001b[0;34m)\u001b[0m\u001b[0;34m)\u001b[0m\u001b[0;34m\u001b[0m\u001b[0;34m\u001b[0m\u001b[0m\n",
      "\u001b[0;31mNameError\u001b[0m: name 'Nones' is not defined"
     ],
     "output_type": "error"
    }
   ],
   "source": [
    "im = None\n",
    "bbs = Nones\n",
    "for im_name in unique_ims:\n",
    "    imbbs = all_together.getBoundingBoxesByImageName(im_name)\n",
    "    im = cv2.imread(os.path.join(\"/data/raw_data/TrainingAnimals_ColorImages/\", im_name))\n",
    "    for bb in imbbs:\n",
    "        if bb._classConfidence > .15 or bb.getClassId() == \"Polar Bear\" :\n",
    "            box_label = \"%s %.4f\" % (bb.getClassId(), bb._classConfidence)\n",
    "            add_bb_into_image(im, bb, label=box_label)\n",
    "    \n",
    "    im = im\n",
    "    bbs = imbbs\n",
    "    break\n",
    "plt.figure(figsize = (20,20))\n",
    "plt.imshow(im,cmap='gray', interpolation='nearest', aspect='auto')\n",
    "plt.show()\n"
   ]
  },
  {
   "cell_type": "code",
   "execution_count": null,
   "metadata": {},
   "outputs": [],
   "source": []
  }
 ],
 "metadata": {
  "kernelspec": {
   "display_name": "Python 3",
   "language": "python",
   "name": "python3"
  },
  "language_info": {
   "codemirror_mode": {
    "name": "ipython",
    "version": 3
   },
   "file_extension": ".py",
   "mimetype": "text/x-python",
   "name": "python",
   "nbconvert_exporter": "python",
   "pygments_lexer": "ipython3",
   "version": "3.6.8"
  }
 },
 "nbformat": 4,
 "nbformat_minor": 2
}
