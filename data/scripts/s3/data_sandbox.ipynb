{
 "cells": [
  {
   "cell_type": "code",
   "execution_count": 61,
   "metadata": {},
   "outputs": [],
   "source": [
    "import json\n",
    "import os\n",
    "import glob\n",
    "\n",
    "manifest = \"output.manifest\"\n",
    "with open(manifest) as f:\n",
    "    content = f.readlines()\n",
    "# you may also want to remove whitespace characters like `\\n` at the end of each line\n",
    "content = [x.strip() for x in content]\n",
    "json_items = []\n",
    "for c in content:\n",
    "    if c == \"\":\n",
    "        continue\n",
    "    obj = json.loads(c)\n",
    "    json_items.append(obj)"
   ]
  },
  {
   "cell_type": "code",
   "execution_count": 62,
   "metadata": {},
   "outputs": [],
   "source": [
    "prelabeled = []\n",
    "ilabeled = []\n",
    "for item in json_items:\n",
    "    if 'NOAAlabelstodo' in item:\n",
    "        del item['NOAAlabelstodo']\n",
    "        ilabeled.append(item)        \n",
    "    else:\n",
    "        prelabeled.append(item)"
   ]
  },
  {
   "cell_type": "markdown",
   "metadata": {},
   "source": [
    "### Create 2016CHESS_US and 2019PB dataframes"
   ]
  },
  {
   "cell_type": "code",
   "execution_count": 63,
   "metadata": {},
   "outputs": [],
   "source": [
    "import pandas as pd\n",
    "annotations_path_chess = \"/data/raw_data/PolarBears/2016CHESS_PolarBearAnnotations.csv\"\n",
    "annotations_path_2019 = \"/data/raw_data/PolarBears/2019_pb_annotations.csv\"\n",
    "numeric_cols = [\"Xmin\", \"Ymin\", \"Xmax\", \"Ymax\"]\n",
    "data2016 = pd.read_csv(annotations_path_chess, sep = ',', header=0, dtype={'PB_ID': object})\n",
    "data2019 = pd.read_csv(annotations_path_2019, sep = ',', header=0, dtype={'PB_ID': object})\n",
    "data2016[numeric_cols] =  data2016[numeric_cols].apply(pd.to_numeric)\n",
    "data2019[numeric_cols] =  data2019[numeric_cols].apply(pd.to_numeric)\n",
    "data2016 = data2016[data2016[\"Frame_color\"].notnull()]\n",
    "data2019 = data2019[data2019[\"Frame_xml\"].notnull()]"
   ]
  },
  {
   "cell_type": "markdown",
   "metadata": {},
   "source": [
    "### Create 2016CHESS_RU"
   ]
  },
  {
   "cell_type": "code",
   "execution_count": 64,
   "metadata": {},
   "outputs": [],
   "source": [
    "import xml.etree.ElementTree as ET\n",
    "for obj in ilabeled:\n",
    "    obj['NOAAlabelsdone-metadata']['job-name'] = \"labeling-job/done-by-me\"\n",
    "\n",
    "RU_PATH = \"/data/raw_data/PolarBears/s3_images/2016_Chukchi_CHESS_Russia\"\n",
    "file_base = file.split(\".\")[0]\n",
    "xml_files = glob.glob(os.path.join(RU_PATH, \"*.xml\"))\n",
    "for f in xml_files:\n",
    "    tree = ET.parse(f)\n",
    "    root = tree.getroot()\n",
    "    img = root[1].text\n",
    "    PB_IDs = []\n",
    "    xmins = []\n",
    "    ymins = []\n",
    "    xmaxs = []\n",
    "    ymaxs = []\n",
    "    for annotation in root[6:]:\n",
    "        PB_IDs.append(annotation[0].text)\n",
    "        xmins.append(int(annotation[4][0].text))\n",
    "        ymins.append(int(annotation[4][1].text))\n",
    "        xmaxs.append(int(annotation[4][2].text))\n",
    "        ymaxs.append(int(root[6][4][3].text))\n",
    "    for idx, data in enumerate(ilabeled):\n",
    "        src=data['source-ref']\n",
    "        category, file = src.replace(\"s3://\",\"\").split(\"/\")[2:]\n",
    "        if file == img:\n",
    "            if len(PB_IDs) == 0:\n",
    "                break\n",
    "            human_labeled = data['NOAAlabelsdone']\n",
    "            labels = human_labeled['annotations']\n",
    "            ilabeled[idx]['NOAAlabelsdone']['annotations'] = []\n",
    "            for j in range(len(PB_IDs)):\n",
    "                h=ymaxs[j] - ymins[j]\n",
    "                w=xmaxs[j] - xmins[j]\n",
    "                ilabeled[idx]['NOAAlabelsdone']['annotations'].append(\n",
    "                    {\n",
    "                        \"Age_class\":\"UNK\",\n",
    "                        \"PB_ID\":PB_IDs[j],\n",
    "                        \"class_id\":0,\n",
    "                        \"height\":h,\n",
    "                        \"left\":xmins[j] + w/2,\n",
    "                        \"top\":ymins[j]+h/2,\n",
    "                        \"width\":w\n",
    "                     }\n",
    "                )\n",
    "                ilabeled[idx]['NOAAlabelsdone-metadata']['job-name'] = \"labeling-job/done-by-noaa\"\n",
    "\n"
   ]
  },
  {
   "cell_type": "code",
   "execution_count": 65,
   "metadata": {},
   "outputs": [],
   "source": [
    "\n",
    "for obj in prelabeled:\n",
    "    src = obj[\"source-ref\"]\n",
    "    category, file = src.replace(\"s3://\",\"\").split(\"/\")[2:]\n",
    "    if category == \"2019_Beaufort_PolarBears\":\n",
    "        row2 = data2019[data2019[\"Frame_xml\"].str.contains(file[:10])]\n",
    "    elif category == \"2016_Chukchi_CHESS_Russia\":\n",
    "        print(\"?\")\n",
    "    elif category == \"2016_Chukchi_CHESS_US\":\n",
    "        row2 = data2016[data2016[\"Frame_color\"].str.contains(file[:-4])]\n",
    "    widths = list(row2['Xmax']-row2['Xmin'])\n",
    "    heights = list(row2['Ymax']-row2['Ymin'])\n",
    "    ids = list(row2['PB_ID'])\n",
    "    ages = list(row2['Age_class'])\n",
    "    badres = True in list(row2['Poor_image_quality'].notnull())\n",
    "    \n",
    "    for i, det in enumerate(obj['NOAAlabelsdone']['annotations']):\n",
    "        for j in range(len(ids)):\n",
    "            h = det['height']\n",
    "            w = det['width']\n",
    "            if heights[j] == h and widths[j] == w:\n",
    "                obj['NOAAlabelsdone']['annotations'][i]['PB_ID'] = ids[j]\n",
    "                obj['NOAAlabelsdone']['annotations'][i]['Age_class'] = ages[j]\n",
    "    obj['NOAAlabelsdone-metadata']['job-name'] = \"labeling-job/done-by-noaa\"\n",
    "    obj['NOAAlabelsdone-metadata']['bad-res'] = badres\n"
   ]
  },
  {
   "cell_type": "code",
   "execution_count": 66,
   "metadata": {},
   "outputs": [],
   "source": [
    "combined = prelabeled + ilabeled\n",
    "for obj in combined:\n",
    "    if len(obj['NOAAlabelsdone']['annotations']) == 0:\n",
    "        obj['NOAAlabelsTODO'] = obj['NOAAlabelsdone']\n",
    "        del obj['NOAAlabelsdone']\n",
    "        obj['NOAAlabelsTODO-metadata'] = obj['NOAAlabelsdone-metadata']\n",
    "        del obj['NOAAlabelsdone-metadata']\n",
    "with open(\"updated.manifest\", \"w\") as f:\n",
    "    for row in combined:\n",
    "            json.dump(row, f, sort_keys=True)\n",
    "            f.write(\"\\r\\n\")\n"
   ]
  },
  {
   "cell_type": "code",
   "execution_count": 25,
   "metadata": {},
   "outputs": [],
   "source": [
    "\n"
   ]
  },
  {
   "cell_type": "code",
   "execution_count": null,
   "metadata": {},
   "outputs": [],
   "source": []
  }
 ],
 "metadata": {
  "kernelspec": {
   "display_name": "Python 3",
   "language": "python",
   "name": "python3"
  },
  "language_info": {
   "codemirror_mode": {
    "name": "ipython",
    "version": 3
   },
   "file_extension": ".py",
   "mimetype": "text/x-python",
   "name": "python",
   "nbconvert_exporter": "python",
   "pygments_lexer": "ipython3",
   "version": "3.6.8"
  }
 },
 "nbformat": 4,
 "nbformat_minor": 2
}
